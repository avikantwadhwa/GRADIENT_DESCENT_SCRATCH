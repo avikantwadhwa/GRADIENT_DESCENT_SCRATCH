{
 "cells": [
  {
   "cell_type": "code",
   "execution_count": 150,
   "metadata": {},
   "outputs": [],
   "source": [
    "#importing libraries\n",
    "import numpy as np\n",
    "import pandas as pd\n",
    "from sklearn import preprocessing"
   ]
  },
  {
   "cell_type": "code",
   "execution_count": 151,
   "metadata": {},
   "outputs": [],
   "source": [
    "#importing dataset\n",
    "data=np.genfromtxt(r\"C:\\Users\\Avikant wadhwa\\Downloads\\bostontrain.csv\",delimiter=\",\")\n",
    "x_train=data[:,0:13]\n",
    "y_train=data[:,13]"
   ]
  },
  {
   "cell_type": "code",
   "execution_count": null,
   "metadata": {},
   "outputs": [],
   "source": []
  },
  {
   "cell_type": "code",
   "execution_count": 152,
   "metadata": {},
   "outputs": [],
   "source": [
    "#predict function\n",
    "def pred(m,x):\n",
    "  \n",
    "    a=np.dot(m,x.transpose())\n",
    "    return a"
   ]
  },
  {
   "cell_type": "code",
   "execution_count": 153,
   "metadata": {},
   "outputs": [],
   "source": [
    "#main function to calculate gradient descent\n",
    "def stepgrad(x_train,y_train,m,lr,c):\n",
    "    no_of_features=len(x_train.T)\n",
    "    m_slope=np.zeros(no_of_features)\n",
    "    m_new=np.zeros(no_of_features)\n",
    "    c_slope=0\n",
    "    c_new=0\n",
    "    M=len(x_train)\n",
    "    for j in range(no_of_features):\n",
    "        for i in range(M):\n",
    "            y=y_train[i]\n",
    "            x=x_train[i,:]\n",
    "            m_slope[j]+=(-2/M)*(y-pred(m,x)-c)*x_train[i,j]\n",
    "            c_slope+=(-2/M)*(y-pred(m,x)-c)\n",
    "        m_new[j]=m[j]-lr*m_slope[j]\n",
    "        c_new=c-lr*c_slope\n",
    "   \n",
    "    return m_new,c_new\n",
    "    "
   ]
  },
  {
   "cell_type": "code",
   "execution_count": 154,
   "metadata": {},
   "outputs": [],
   "source": [
    "#function to calculate gradient number of iterations\n",
    "def grad(x_train,y_train,lr,n_iter):\n",
    "    \n",
    "    m=np.zeros(len(x_train.T))\n",
    "    c=0\n",
    "    for i in range(n_iter):\n",
    "        m,c=stepgrad(x_train,y_train,m,lr,c)\n",
    "    return m,c"
   ]
  },
  {
   "cell_type": "code",
   "execution_count": 155,
   "metadata": {},
   "outputs": [],
   "source": [
    "#function to run the all functions\n",
    "def run(x_train,y_train,lr,n_iter):\n",
    "    \n",
    "    m,c=grad(x_train,y_train,lr,n_iter)\n",
    "    return m,c"
   ]
  },
  {
   "cell_type": "code",
   "execution_count": 156,
   "metadata": {},
   "outputs": [],
   "source": [
    "def predict(x_train,m,c):\n",
    "    y_pred=[0 for i in range(len(x_train))]\n",
    "    for i in range(len(x_train)):\n",
    "        y_pred[i]=(pred(m,x_train[i])+c)\n",
    "    return y_pred"
   ]
  },
  {
   "cell_type": "code",
   "execution_count": 157,
   "metadata": {},
   "outputs": [],
   "source": [
    "#scoring function\n",
    "def score(y, y_pred):\n",
    "    u = ((y - y_pred)**2).sum()\n",
    "    v = ((y - y.mean())**2).sum()\n",
    "    return 1 - u/v"
   ]
  },
  {
   "cell_type": "code",
   "execution_count": 158,
   "metadata": {},
   "outputs": [],
   "source": [
    "#learning rate and no of iterations\n",
    "lr=0.01\n",
    "n_iter=1000"
   ]
  },
  {
   "cell_type": "code",
   "execution_count": 159,
   "metadata": {},
   "outputs": [],
   "source": [
    "x1=x_train**2\n",
    "x2=x_train**3"
   ]
  },
  {
   "cell_type": "code",
   "execution_count": 160,
   "metadata": {},
   "outputs": [],
   "source": [
    "x_train=np.append(x_train,x1,axis=1)\n",
    "x_train=np.append(x_train,x2,axis=1)"
   ]
  },
  {
   "cell_type": "code",
   "execution_count": 161,
   "metadata": {},
   "outputs": [],
   "source": [
    "from sklearn.preprocessing import StandardScaler"
   ]
  },
  {
   "cell_type": "code",
   "execution_count": 162,
   "metadata": {},
   "outputs": [],
   "source": [
    "scaler=StandardScaler()"
   ]
  },
  {
   "cell_type": "code",
   "execution_count": null,
   "metadata": {},
   "outputs": [],
   "source": []
  },
  {
   "cell_type": "code",
   "execution_count": 163,
   "metadata": {},
   "outputs": [],
   "source": [
    "from sklearn.model_selection import train_test_split"
   ]
  },
  {
   "cell_type": "code",
   "execution_count": 164,
   "metadata": {},
   "outputs": [],
   "source": [
    "x_train,x_test,y_train,y_test=train_test_split(x_train,y_train,test_size=0.25,random_state=0)"
   ]
  },
  {
   "cell_type": "code",
   "execution_count": 165,
   "metadata": {},
   "outputs": [],
   "source": [
    "x_train=scaler.fit_transform(x_train)"
   ]
  },
  {
   "cell_type": "code",
   "execution_count": 166,
   "metadata": {},
   "outputs": [],
   "source": [
    "x_test=scaler.transform(x_test)"
   ]
  },
  {
   "cell_type": "code",
   "execution_count": 167,
   "metadata": {},
   "outputs": [],
   "source": [
    "#prediction on y\n",
    "m,c=run(x_train,y_train,lr,n_iter)"
   ]
  },
  {
   "cell_type": "code",
   "execution_count": 168,
   "metadata": {},
   "outputs": [
    {
     "data": {
      "text/plain": [
       "0.8378112494773431"
      ]
     },
     "execution_count": 168,
     "metadata": {},
     "output_type": "execute_result"
    }
   ],
   "source": [
    "score(y_train,predict(x_train,m,c))"
   ]
  },
  {
   "cell_type": "code",
   "execution_count": 169,
   "metadata": {},
   "outputs": [
    {
     "data": {
      "text/plain": [
       "0.7522404605288023"
      ]
     },
     "execution_count": 169,
     "metadata": {},
     "output_type": "execute_result"
    }
   ],
   "source": [
    "score(y_test,predict(x_test,m,c))"
   ]
  }
 ],
 "metadata": {
  "kernelspec": {
   "display_name": "Python 3",
   "language": "python",
   "name": "python3"
  },
  "language_info": {
   "codemirror_mode": {
    "name": "ipython",
    "version": 3
   },
   "file_extension": ".py",
   "mimetype": "text/x-python",
   "name": "python",
   "nbconvert_exporter": "python",
   "pygments_lexer": "ipython3",
   "version": "3.6.5"
  }
 },
 "nbformat": 4,
 "nbformat_minor": 2
}
