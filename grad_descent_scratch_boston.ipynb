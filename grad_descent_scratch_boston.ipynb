{
 "cells": [
  {
   "cell_type": "code",
   "execution_count": 38,
   "metadata": {},
   "outputs": [],
   "source": [
    "#importing libraries\n",
    "import numpy as np\n",
    "import pandas as pd\n",
    "from sklearn import preprocessing"
   ]
  },
  {
   "cell_type": "code",
   "execution_count": 39,
   "metadata": {},
   "outputs": [],
   "source": [
    "#importing dataset\n",
    "data=np.genfromtxt(r\"C:\\Users\\Avikant wadhwa\\Downloads\\bostontrain.csv\",delimiter=\",\")\n",
    "x_train=data[:,0:13]\n",
    "y_train=data[:,13]"
   ]
  },
  {
   "cell_type": "code",
   "execution_count": null,
   "metadata": {},
   "outputs": [],
   "source": []
  },
  {
   "cell_type": "code",
   "execution_count": 40,
   "metadata": {},
   "outputs": [],
   "source": [
    "#predict function\n",
    "def pred(m,x):\n",
    "  \n",
    "    a=np.dot(m,x.transpose())\n",
    "    return a"
   ]
  },
  {
   "cell_type": "code",
   "execution_count": 55,
   "metadata": {},
   "outputs": [],
   "source": [
    "#main function to calculate gradient descent\n",
    "def stepgrad(x_train,y_train,m,lr,c):\n",
    "    no_of_features=len(x_train.T)\n",
    "    m_slope=np.zeros(no_of_features)\n",
    "    m_new=np.zeros(no_of_features)\n",
    "    c_slope=0\n",
    "    c_new=0\n",
    "    M=len(x_train)\n",
    "    for j in range(no_of_features):\n",
    "        for i in range(M):\n",
    "            y=y_train[i]\n",
    "            x=x_train[i,:]\n",
    "            m_slope[j]+=(-2/M)*(y-pred(m,x)-c)*x_train[i,j]\n",
    "            c_slope+=(-2/M)*(y-pred(m,x)-c)\n",
    "        m_new[j]=m[j]-lr*m_slope[j]\n",
    "        c_new=c-lr*c_slope\n",
    "   \n",
    "    return m_new,c_new\n",
    "    "
   ]
  },
  {
   "cell_type": "code",
   "execution_count": 57,
   "metadata": {},
   "outputs": [],
   "source": [
    "#function to calculate gradient number of iterations\n",
    "def grad(x_train,y_train,lr,n_iter):\n",
    "    \n",
    "    m=np.zeros(len(x_train.T))\n",
    "    c=0\n",
    "    for i in range(n_iter):\n",
    "        m,c=stepgrad(x_train,y_train,m,lr,c)\n",
    "    return m,c"
   ]
  },
  {
   "cell_type": "code",
   "execution_count": 49,
   "metadata": {},
   "outputs": [],
   "source": [
    "#function to run the all functions\n",
    "def run(x_train,y_train,lr,n_iter):\n",
    "    \n",
    "    m,c=grad(x_train,y_train,lr,n_iter)\n",
    "    y_pred=[0 for i in range(len(x_train))]\n",
    "    for i in range(len(x_train)):\n",
    "        y_pred[i]=(pred(m,x_train[i])+c)\n",
    "        \n",
    "        \n",
    "    return y_pred"
   ]
  },
  {
   "cell_type": "code",
   "execution_count": 45,
   "metadata": {},
   "outputs": [],
   "source": [
    "#scoring function\n",
    "def score(y, y_pred):\n",
    "    u = ((y - y_pred)**2).sum()\n",
    "    v = ((y - y.mean())**2).sum()\n",
    "    return 1 - u/v"
   ]
  },
  {
   "cell_type": "code",
   "execution_count": 46,
   "metadata": {},
   "outputs": [],
   "source": [
    "#learning rate and no of iterations\n",
    "lr=0.01\n",
    "n_iter=1000"
   ]
  },
  {
   "cell_type": "code",
   "execution_count": 58,
   "metadata": {},
   "outputs": [],
   "source": [
    "#prediction on y\n",
    "y_pred=run(x_train,y_train,lr,n_iter)"
   ]
  },
  {
   "cell_type": "code",
   "execution_count": null,
   "metadata": {},
   "outputs": [],
   "source": [
    "score(y_train,y_pred)"
   ]
  }
 ],
 "metadata": {
  "kernelspec": {
   "display_name": "Python 3",
   "language": "python",
   "name": "python3"
  },
  "language_info": {
   "codemirror_mode": {
    "name": "ipython",
    "version": 3
   },
   "file_extension": ".py",
   "mimetype": "text/x-python",
   "name": "python",
   "nbconvert_exporter": "python",
   "pygments_lexer": "ipython3",
   "version": "3.6.5"
  }
 },
 "nbformat": 4,
 "nbformat_minor": 2
}
